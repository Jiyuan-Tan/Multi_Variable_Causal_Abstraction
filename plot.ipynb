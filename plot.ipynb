{
 "cells": [
  {
   "cell_type": "code",
   "execution_count": null,
   "id": "1ac1c86b",
   "metadata": {
    "vscode": {
     "languageId": "plaintext"
    }
   },
   "outputs": [],
   "source": [
    "from plotnine import (\n",
    "    ggplot,\n",
    "    geom_tile,\n",
    "    aes,\n",
    "    facet_wrap,\n",
    "    theme,\n",
    "    geom_text,\n",
    "    element_text,\n",
    "    geom_bar,\n",
    "    geom_hline,\n",
    "    scale_y_log10,\n",
    "    scale_x_discrete\n",
    ")\n",
    "import pandas as pd\n",
    "\n",
    "# Plot the results\n",
    "df = pd.DataFrame(data)\n",
    "df[\"layer\"] = df[\"layer\"].astype(\"category\")\n",
    "df[\"intervention\"] = df[\"intervention\"].astype(\"category\")\n",
    "nodes = []\n",
    "for l in range(model.config.n_layer - 1, -1, -1):\n",
    "    nodes.append(f\"{l}\")\n",
    "df[\"layer\"] = pd.Categorical(df[\"layer\"], categories=nodes[::-1], ordered=True)\n",
    "g = (\n",
    "    ggplot(df)\n",
    "    + geom_tile(aes(x=\"pos\", y=\"layer\", fill=\"accuracy\", color=\"accuracy\"))\n",
    "    + geom_text(aes(x=\"pos\", y=\"layer\", label=df[\"accuracy\"].round(2)),color=\"white\",size = 7)  # Add text labels\n",
    "    + facet_wrap(\"~intervention\")\n",
    "    + theme(axis_text_x=element_text(rotation=90))\n",
    ")\n",
    "g.show()"
   ]
  }
 ],
 "metadata": {
  "language_info": {
   "name": "python"
  }
 },
 "nbformat": 4,
 "nbformat_minor": 5
}
